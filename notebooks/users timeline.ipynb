{
 "cells": [
  {
   "cell_type": "code",
   "execution_count": 1,
   "metadata": {},
   "outputs": [],
   "source": [
    "from matplotlib import pyplot as plt\n",
    "import seaborn as sns\n",
    "\n",
    "import pandas as pd\n",
    "import datetime\n",
    "import swifter\n",
    "import numpy as np\n",
    "\n",
    "from tqdm.notebook import tqdm"
   ]
  },
  {
   "cell_type": "code",
   "execution_count": 2,
   "metadata": {},
   "outputs": [],
   "source": [
    "path_to_data = '../data/'"
   ]
  },
  {
   "cell_type": "code",
   "execution_count": 3,
   "metadata": {},
   "outputs": [],
   "source": [
    "columns_to_read = ['timestamp', 'client', 'session_id']"
   ]
  },
  {
   "cell_type": "code",
   "execution_count": 4,
   "metadata": {},
   "outputs": [],
   "source": [
    "sample_click_stream = pd.read_parquet(path_to_data + 'alfabattle2_abattle_clickstream/part-00005.parquet', columns=columns_to_read)"
   ]
  },
  {
   "cell_type": "code",
   "execution_count": 5,
   "metadata": {},
   "outputs": [],
   "source": [
    "users_time_df = sample_click_stream.groupby(['client', 'session_id'])['timestamp'].agg(['min', 'max']).reset_index()"
   ]
  },
  {
   "cell_type": "code",
   "execution_count": 13,
   "metadata": {},
   "outputs": [],
   "source": [
    "users_first_sessions = users_time_df.sort_values(['client', 'min']).drop_duplicates(['client'], keep='first')"
   ]
  },
  {
   "cell_type": "code",
   "execution_count": 14,
   "metadata": {},
   "outputs": [],
   "source": [
    "users_last_sessions = users_time_df.sort_values(['client', 'max']).drop_duplicates(['client'], keep='last')"
   ]
  },
  {
   "cell_type": "code",
   "execution_count": 15,
   "metadata": {},
   "outputs": [
    {
     "data": {
      "text/html": [
       "<div>\n",
       "<style scoped>\n",
       "    .dataframe tbody tr th:only-of-type {\n",
       "        vertical-align: middle;\n",
       "    }\n",
       "\n",
       "    .dataframe tbody tr th {\n",
       "        vertical-align: top;\n",
       "    }\n",
       "\n",
       "    .dataframe thead th {\n",
       "        text-align: right;\n",
       "    }\n",
       "</style>\n",
       "<table border=\"1\" class=\"dataframe\">\n",
       "  <thead>\n",
       "    <tr style=\"text-align: right;\">\n",
       "      <th></th>\n",
       "      <th>client</th>\n",
       "      <th>session_id</th>\n",
       "      <th>min</th>\n",
       "      <th>max</th>\n",
       "    </tr>\n",
       "  </thead>\n",
       "  <tbody>\n",
       "    <tr>\n",
       "      <th>24</th>\n",
       "      <td>00096befff35b861d19c6de26db86fd6</td>\n",
       "      <td>591204b097729826354e04b0b8f16a1f</td>\n",
       "      <td>2020-01-25 09:59:05.834</td>\n",
       "      <td>2020-01-25 09:59:49.681</td>\n",
       "    </tr>\n",
       "  </tbody>\n",
       "</table>\n",
       "</div>"
      ],
      "text/plain": [
       "                              client                        session_id  \\\n",
       "24  00096befff35b861d19c6de26db86fd6  591204b097729826354e04b0b8f16a1f   \n",
       "\n",
       "                       min                     max  \n",
       "24 2020-01-25 09:59:05.834 2020-01-25 09:59:49.681  "
      ]
     },
     "execution_count": 15,
     "metadata": {},
     "output_type": "execute_result"
    }
   ],
   "source": [
    "users_first_sessions.head(1)"
   ]
  },
  {
   "cell_type": "code",
   "execution_count": 16,
   "metadata": {},
   "outputs": [],
   "source": [
    "users_first_sessions = users_first_sessions.rename(columns={'min': 'first_session_min_time'}).drop(['session_id', 'max'], axis=1)"
   ]
  },
  {
   "cell_type": "code",
   "execution_count": 17,
   "metadata": {},
   "outputs": [
    {
     "data": {
      "text/html": [
       "<div>\n",
       "<style scoped>\n",
       "    .dataframe tbody tr th:only-of-type {\n",
       "        vertical-align: middle;\n",
       "    }\n",
       "\n",
       "    .dataframe tbody tr th {\n",
       "        vertical-align: top;\n",
       "    }\n",
       "\n",
       "    .dataframe thead th {\n",
       "        text-align: right;\n",
       "    }\n",
       "</style>\n",
       "<table border=\"1\" class=\"dataframe\">\n",
       "  <thead>\n",
       "    <tr style=\"text-align: right;\">\n",
       "      <th></th>\n",
       "      <th>client</th>\n",
       "      <th>session_id</th>\n",
       "      <th>min</th>\n",
       "      <th>max</th>\n",
       "    </tr>\n",
       "  </thead>\n",
       "  <tbody>\n",
       "    <tr>\n",
       "      <th>44</th>\n",
       "      <td>00096befff35b861d19c6de26db86fd6</td>\n",
       "      <td>a77cf1f8cd36d4c7a66f8230d247c94b</td>\n",
       "      <td>2020-08-22 14:18:35.107</td>\n",
       "      <td>2020-08-22 14:20:21.299</td>\n",
       "    </tr>\n",
       "  </tbody>\n",
       "</table>\n",
       "</div>"
      ],
      "text/plain": [
       "                              client                        session_id  \\\n",
       "44  00096befff35b861d19c6de26db86fd6  a77cf1f8cd36d4c7a66f8230d247c94b   \n",
       "\n",
       "                       min                     max  \n",
       "44 2020-08-22 14:18:35.107 2020-08-22 14:20:21.299  "
      ]
     },
     "execution_count": 17,
     "metadata": {},
     "output_type": "execute_result"
    }
   ],
   "source": [
    "users_last_sessions.head(1)"
   ]
  },
  {
   "cell_type": "code",
   "execution_count": 19,
   "metadata": {},
   "outputs": [],
   "source": [
    "users_last_sessions = users_last_sessions.rename(columns={'min': 'last_session_min_time', 'max': 'last_session_max_time'}).drop(['session_id'], axis=1)"
   ]
  },
  {
   "cell_type": "code",
   "execution_count": 21,
   "metadata": {},
   "outputs": [],
   "source": [
    "users_time_df = users_first_sessions.merge(users_last_sessions)"
   ]
  },
  {
   "cell_type": "code",
   "execution_count": 22,
   "metadata": {},
   "outputs": [],
   "source": [
    "train_df = pd.read_csv(path_to_data + 'alfabattle2_abattle_train_target.csv', parse_dates=['timestamp'])"
   ]
  },
  {
   "cell_type": "code",
   "execution_count": 23,
   "metadata": {},
   "outputs": [
    {
     "data": {
      "text/html": [
       "<div>\n",
       "<style scoped>\n",
       "    .dataframe tbody tr th:only-of-type {\n",
       "        vertical-align: middle;\n",
       "    }\n",
       "\n",
       "    .dataframe tbody tr th {\n",
       "        vertical-align: top;\n",
       "    }\n",
       "\n",
       "    .dataframe thead th {\n",
       "        text-align: right;\n",
       "    }\n",
       "</style>\n",
       "<table border=\"1\" class=\"dataframe\">\n",
       "  <thead>\n",
       "    <tr style=\"text-align: right;\">\n",
       "      <th></th>\n",
       "      <th>session_id</th>\n",
       "      <th>client_pin</th>\n",
       "      <th>timestamp</th>\n",
       "      <th>multi_class_target</th>\n",
       "    </tr>\n",
       "  </thead>\n",
       "  <tbody>\n",
       "    <tr>\n",
       "      <th>0</th>\n",
       "      <td>0000029e72e5fcde6a9f29c3a3ed198f</td>\n",
       "      <td>7cf9221322a0e2fdefb1b998b8f2ab29</td>\n",
       "      <td>2020-06-15 14:01:12</td>\n",
       "      <td>main_screen</td>\n",
       "    </tr>\n",
       "  </tbody>\n",
       "</table>\n",
       "</div>"
      ],
      "text/plain": [
       "                         session_id                        client_pin  \\\n",
       "0  0000029e72e5fcde6a9f29c3a3ed198f  7cf9221322a0e2fdefb1b998b8f2ab29   \n",
       "\n",
       "            timestamp multi_class_target  \n",
       "0 2020-06-15 14:01:12        main_screen  "
      ]
     },
     "execution_count": 23,
     "metadata": {},
     "output_type": "execute_result"
    }
   ],
   "source": [
    "train_df.head(1)"
   ]
  },
  {
   "cell_type": "code",
   "execution_count": 24,
   "metadata": {},
   "outputs": [],
   "source": [
    "users_train_time_df = train_df.groupby(['client_pin'])['timestamp'].agg(['min', 'max']).reset_index()"
   ]
  },
  {
   "cell_type": "code",
   "execution_count": 25,
   "metadata": {},
   "outputs": [
    {
     "data": {
      "text/plain": [
       "(8031, 4)"
      ]
     },
     "execution_count": 25,
     "metadata": {},
     "output_type": "execute_result"
    }
   ],
   "source": [
    "users_time_df.shape"
   ]
  },
  {
   "cell_type": "code",
   "execution_count": 28,
   "metadata": {},
   "outputs": [],
   "source": [
    "users_train_time_df = users_train_time_df.rename(columns={'min': 'first_labeled_session_time', 'max': 'last_labeled_session_time'})"
   ]
  },
  {
   "cell_type": "code",
   "execution_count": 29,
   "metadata": {},
   "outputs": [],
   "source": [
    "result = users_time_df.merge(users_train_time_df, how='inner', left_on='client', right_on='client_pin')"
   ]
  },
  {
   "cell_type": "code",
   "execution_count": 30,
   "metadata": {},
   "outputs": [
    {
     "data": {
      "text/html": [
       "<div>\n",
       "<style scoped>\n",
       "    .dataframe tbody tr th:only-of-type {\n",
       "        vertical-align: middle;\n",
       "    }\n",
       "\n",
       "    .dataframe tbody tr th {\n",
       "        vertical-align: top;\n",
       "    }\n",
       "\n",
       "    .dataframe thead th {\n",
       "        text-align: right;\n",
       "    }\n",
       "</style>\n",
       "<table border=\"1\" class=\"dataframe\">\n",
       "  <thead>\n",
       "    <tr style=\"text-align: right;\">\n",
       "      <th></th>\n",
       "      <th>client</th>\n",
       "      <th>first_session_min_time</th>\n",
       "      <th>last_session_min_time</th>\n",
       "      <th>last_session_max_time</th>\n",
       "      <th>client_pin</th>\n",
       "      <th>first_labeled_session_time</th>\n",
       "      <th>last_labeled_session_time</th>\n",
       "    </tr>\n",
       "  </thead>\n",
       "  <tbody>\n",
       "    <tr>\n",
       "      <th>0</th>\n",
       "      <td>00096befff35b861d19c6de26db86fd6</td>\n",
       "      <td>2020-01-25 09:59:05.834</td>\n",
       "      <td>2020-08-22 14:18:35.107</td>\n",
       "      <td>2020-08-22 14:20:21.299</td>\n",
       "      <td>00096befff35b861d19c6de26db86fd6</td>\n",
       "      <td>2020-02-06 18:07:13</td>\n",
       "      <td>2020-08-17 08:00:05</td>\n",
       "    </tr>\n",
       "  </tbody>\n",
       "</table>\n",
       "</div>"
      ],
      "text/plain": [
       "                             client  first_session_min_time  \\\n",
       "0  00096befff35b861d19c6de26db86fd6 2020-01-25 09:59:05.834   \n",
       "\n",
       "    last_session_min_time   last_session_max_time  \\\n",
       "0 2020-08-22 14:18:35.107 2020-08-22 14:20:21.299   \n",
       "\n",
       "                         client_pin first_labeled_session_time  \\\n",
       "0  00096befff35b861d19c6de26db86fd6        2020-02-06 18:07:13   \n",
       "\n",
       "  last_labeled_session_time  \n",
       "0       2020-08-17 08:00:05  "
      ]
     },
     "execution_count": 30,
     "metadata": {},
     "output_type": "execute_result"
    }
   ],
   "source": [
    "result.head(1)"
   ]
  },
  {
   "cell_type": "code",
   "execution_count": 31,
   "metadata": {},
   "outputs": [],
   "source": [
    "test_df = pd.read_csv(path_to_data + 'alfabattle2_prediction_session_timestamp.csv', parse_dates=['timestamp'])"
   ]
  },
  {
   "cell_type": "code",
   "execution_count": 32,
   "metadata": {},
   "outputs": [],
   "source": [
    "result.drop(['client'], axis=1, inplace=True)"
   ]
  },
  {
   "cell_type": "code",
   "execution_count": 33,
   "metadata": {},
   "outputs": [
    {
     "name": "stdout",
     "output_type": "stream",
     "text": [
      "<class 'pandas.core.frame.DataFrame'>\n",
      "Int64Index: 7919 entries, 0 to 7918\n",
      "Data columns (total 6 columns):\n",
      " #   Column                      Non-Null Count  Dtype         \n",
      "---  ------                      --------------  -----         \n",
      " 0   first_session_min_time      7919 non-null   datetime64[ns]\n",
      " 1   last_session_min_time       7919 non-null   datetime64[ns]\n",
      " 2   last_session_max_time       7919 non-null   datetime64[ns]\n",
      " 3   client_pin                  7919 non-null   object        \n",
      " 4   first_labeled_session_time  7919 non-null   datetime64[ns]\n",
      " 5   last_labeled_session_time   7919 non-null   datetime64[ns]\n",
      "dtypes: datetime64[ns](5), object(1)\n",
      "memory usage: 433.1+ KB\n"
     ]
    }
   ],
   "source": [
    "result.info()"
   ]
  },
  {
   "cell_type": "code",
   "execution_count": 34,
   "metadata": {},
   "outputs": [],
   "source": [
    "result = result.merge(test_df, how='inner')"
   ]
  },
  {
   "cell_type": "code",
   "execution_count": 35,
   "metadata": {},
   "outputs": [
    {
     "name": "stdout",
     "output_type": "stream",
     "text": [
      "<class 'pandas.core.frame.DataFrame'>\n",
      "Int64Index: 7919 entries, 0 to 7918\n",
      "Data columns (total 7 columns):\n",
      " #   Column                      Non-Null Count  Dtype         \n",
      "---  ------                      --------------  -----         \n",
      " 0   first_session_min_time      7919 non-null   datetime64[ns]\n",
      " 1   last_session_min_time       7919 non-null   datetime64[ns]\n",
      " 2   last_session_max_time       7919 non-null   datetime64[ns]\n",
      " 3   client_pin                  7919 non-null   object        \n",
      " 4   first_labeled_session_time  7919 non-null   datetime64[ns]\n",
      " 5   last_labeled_session_time   7919 non-null   datetime64[ns]\n",
      " 6   timestamp                   7919 non-null   datetime64[ns]\n",
      "dtypes: datetime64[ns](6), object(1)\n",
      "memory usage: 494.9+ KB\n"
     ]
    }
   ],
   "source": [
    "result.info()"
   ]
  },
  {
   "cell_type": "code",
   "execution_count": 36,
   "metadata": {},
   "outputs": [],
   "source": [
    "result['test_train_lag'] = (result['timestamp'] - result['last_labeled_session_time']).apply(lambda x: x.days)"
   ]
  },
  {
   "cell_type": "code",
   "execution_count": 37,
   "metadata": {},
   "outputs": [
    {
     "data": {
      "text/plain": [
       "count    7919.000000\n",
       "mean       14.141179\n",
       "std        28.897967\n",
       "min         0.000000\n",
       "25%         0.000000\n",
       "50%         3.000000\n",
       "75%        14.000000\n",
       "max       248.000000\n",
       "Name: test_train_lag, dtype: float64"
      ]
     },
     "execution_count": 37,
     "metadata": {},
     "output_type": "execute_result"
    }
   ],
   "source": [
    "result['test_train_lag'].describe()"
   ]
  },
  {
   "cell_type": "code",
   "execution_count": 48,
   "metadata": {},
   "outputs": [],
   "source": [
    "result['test_log_lag'] = (result['timestamp'] - result['last_session_min_time']).apply(lambda x: x.total_seconds())"
   ]
  },
  {
   "cell_type": "code",
   "execution_count": 49,
   "metadata": {},
   "outputs": [
    {
     "data": {
      "text/plain": [
       "count    7.919000e+03\n",
       "mean     3.838789e+05\n",
       "std      9.273569e+05\n",
       "min      9.078030e+02\n",
       "25%      2.153861e+04\n",
       "50%      9.241595e+04\n",
       "75%      3.399425e+05\n",
       "max      1.702419e+07\n",
       "Name: test_log_lag, dtype: float64"
      ]
     },
     "execution_count": 49,
     "metadata": {},
     "output_type": "execute_result"
    }
   ],
   "source": [
    "result['test_log_lag'].describe()"
   ]
  },
  {
   "cell_type": "code",
   "execution_count": null,
   "metadata": {},
   "outputs": [],
   "source": []
  }
 ],
 "metadata": {
  "kernelspec": {
   "display_name": "Python 3",
   "language": "python",
   "name": "python3"
  },
  "language_info": {
   "codemirror_mode": {
    "name": "ipython",
    "version": 3
   },
   "file_extension": ".py",
   "mimetype": "text/x-python",
   "name": "python",
   "nbconvert_exporter": "python",
   "pygments_lexer": "ipython3",
   "version": "3.8.5"
  }
 },
 "nbformat": 4,
 "nbformat_minor": 4
}
