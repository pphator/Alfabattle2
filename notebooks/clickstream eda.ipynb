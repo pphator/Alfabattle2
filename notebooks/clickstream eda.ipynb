{
 "cells": [
  {
   "cell_type": "code",
   "execution_count": 1,
   "metadata": {},
   "outputs": [],
   "source": [
    "from matplotlib import pyplot as plt\n",
    "import seaborn as sns\n",
    "\n",
    "import pandas as pd\n",
    "import datetime\n",
    "import swifter\n",
    "import numpy as np\n",
    "\n",
    "from tqdm.notebook import tqdm"
   ]
  },
  {
   "cell_type": "code",
   "execution_count": 2,
   "metadata": {},
   "outputs": [],
   "source": [
    "path_to_data = '../data/'"
   ]
  },
  {
   "cell_type": "code",
   "execution_count": 6,
   "metadata": {},
   "outputs": [],
   "source": [
    "columns_to_read = ['timestamp', 'application_id', 'client', 'session_id', 'event_type', 'event_category', \n",
    "                   'event_name', 'event_label', 'page_urlhost', 'net_connection_type', 'net_connection_tech', \n",
    "                   'device_screen_name', 'device_is_webview']"
   ]
  },
  {
   "cell_type": "code",
   "execution_count": 7,
   "metadata": {},
   "outputs": [],
   "source": [
    "sample_click_stream = pd.read_parquet(path_to_data + 'alfabattle2_abattle_clickstream/part-00000.parquet', columns=columns_to_read)"
   ]
  },
  {
   "cell_type": "code",
   "execution_count": 8,
   "metadata": {},
   "outputs": [],
   "source": [
    "sample_click_stream['device_is_webview'] = sample_click_stream['device_is_webview'].fillna(False)\n",
    "sample_click_stream.loc[sample_click_stream['page_urlhost'].map(sample_click_stream['page_urlhost'].value_counts() < 1000).fillna(False), 'page_urlhost'] = 'Other'\n",
    "sample_click_stream['page_urlhost'] = sample_click_stream['page_urlhost'].fillna(sample_click_stream['page_urlhost'].mode()[0])\n",
    "sample_click_stream['net_connection_type'] = sample_click_stream['net_connection_type'].fillna(sample_click_stream['net_connection_type'].mode()[0])\n",
    "sample_click_stream.loc[sample_click_stream['net_connection_tech'].map(sample_click_stream['net_connection_tech'].value_counts() < 1000).fillna(False), 'net_connection_tech'] = 'Other'\n",
    "sample_click_stream['net_connection_tech'] = sample_click_stream['net_connection_tech'].fillna(sample_click_stream['net_connection_tech'].mode()[0])\n",
    "sample_click_stream.loc[sample_click_stream['event_category'].map(sample_click_stream['event_category'].value_counts() < 20000).fillna(False), 'event_category'] = 'Other'\n",
    "sample_click_stream['event_category'] = sample_click_stream['event_category'].fillna(sample_click_stream['event_category'].mode()[0])\n",
    "sample_click_stream.loc[sample_click_stream['event_name'].map(sample_click_stream['event_name'].value_counts() < 10000).fillna(False), 'event_name'] = 'Other'\n",
    "sample_click_stream['event_name'] = sample_click_stream['event_name'].fillna(sample_click_stream['event_name'].mode()[0])\n",
    "sample_click_stream.loc[sample_click_stream['event_label'].map(sample_click_stream['event_label'].value_counts() < 10000).fillna(False), 'event_label'] = 'Other'\n",
    "sample_click_stream['event_label'] = sample_click_stream['event_label'].fillna(sample_click_stream['event_label'].mode()[0])\n",
    "sample_click_stream.loc[sample_click_stream['device_screen_name'].map(sample_click_stream['device_screen_name'].value_counts() < 10000).fillna(False), 'device_screen_name'] = 'Other'\n",
    "sample_click_stream['device_screen_name'] = sample_click_stream['device_screen_name'].fillna(sample_click_stream['device_screen_name'].mode()[0])"
   ]
  },
  {
   "cell_type": "code",
   "execution_count": null,
   "metadata": {},
   "outputs": [],
   "source": []
  },
  {
   "cell_type": "code",
   "execution_count": 9,
   "metadata": {},
   "outputs": [
    {
     "name": "stdout",
     "output_type": "stream",
     "text": [
      "<class 'pandas.core.frame.DataFrame'>\n",
      "RangeIndex: 12468595 entries, 0 to 12468594\n",
      "Data columns (total 13 columns):\n",
      " #   Column               Non-Null Count     Dtype         \n",
      "---  ------               --------------     -----         \n",
      " 0   timestamp            12468595 non-null  datetime64[ns]\n",
      " 1   application_id       12468595 non-null  object        \n",
      " 2   client               12468595 non-null  object        \n",
      " 3   session_id           12468595 non-null  object        \n",
      " 4   event_type           12468595 non-null  object        \n",
      " 5   event_category       12468595 non-null  object        \n",
      " 6   event_name           12468595 non-null  object        \n",
      " 7   event_label          12468595 non-null  object        \n",
      " 8   page_urlhost         12468595 non-null  object        \n",
      " 9   net_connection_type  12468595 non-null  object        \n",
      " 10  net_connection_tech  12468595 non-null  object        \n",
      " 11  device_screen_name   12468595 non-null  object        \n",
      " 12  device_is_webview    12468595 non-null  bool          \n",
      "dtypes: bool(1), datetime64[ns](1), object(11)\n",
      "memory usage: 1.1+ GB\n"
     ]
    }
   ],
   "source": [
    "sample_click_stream.info(null_counts=True)"
   ]
  },
  {
   "cell_type": "code",
   "execution_count": 17,
   "metadata": {},
   "outputs": [
    {
     "data": {
      "text/plain": [
       "0           False\n",
       "1           False\n",
       "2           False\n",
       "3           False\n",
       "4           False\n",
       "            ...  \n",
       "12468590     True\n",
       "12468591     True\n",
       "12468592     True\n",
       "12468593     True\n",
       "12468594     True\n",
       "Name: event_category, Length: 12468595, dtype: bool"
      ]
     },
     "execution_count": 17,
     "metadata": {},
     "output_type": "execute_result"
    }
   ],
   "source": [
    "sample_click_stream['event_category'].map(sample_click_stream['event_category'].value_counts() < 50).fillna(False)"
   ]
  },
  {
   "cell_type": "code",
   "execution_count": 76,
   "metadata": {},
   "outputs": [
    {
     "data": {
      "text/plain": [
       "SignInActivity                                    1225890\n",
       "MainListFragment                                  1209312\n",
       "Main list                                          999001\n",
       "Single Statement                                   708981\n",
       "MainListOnWidgetsFragment                          667616\n",
       "AllPaymentsFragmentNoTemplates                     314752\n",
       "StatementFragment                                  278615\n",
       "Accounts And Cards Widget                          230012\n",
       "Final Payment Simple                               173662\n",
       "All Payments                                       165095\n",
       "Chat                                               135715\n",
       "Card To Card Transfer                              133173\n",
       "Widget Dashboard                                   132988\n",
       "NotificationsFragment                              131939\n",
       "OffersFragment                                     131930\n",
       "Statements screen                                   99175\n",
       "AccountDetailActivity                               92850\n",
       "Client Phone Transfer                               89744\n",
       "Credit Info                                         88224\n",
       "CreditInfoActivity                                  87647\n",
       "All payments screen                                 80788\n",
       "FinalPaymentSimpleFragment                          72179\n",
       "CardToCardTransferFragment                          71072\n",
       "Recharge                                            69762\n",
       "WebFeatureFragment                                  64604\n",
       "StatementDetailsActivity                            62561\n",
       "Select Card                                         57269\n",
       "MarketplaceFragment                                 53573\n",
       "AccountsCardsActivity                               52463\n",
       "Investments Main Screen                             50844\n",
       "OwnTransferActivity                                 48316\n",
       "Own Transfer                                        47140\n",
       "MobileRechargeActivity                              44804\n",
       "ChatNewFragment                                     42584\n",
       "ReverseCashBack Main                                41862\n",
       "ClientPhoneTransferActivity                         39973\n",
       "RechargeChooseActivity                              38253\n",
       "Cards Accounts list                                 38184\n",
       "RechargeActivity                                    38105\n",
       "MobileConfirmActivity                               36494\n",
       "PfmMainActivity                                     33718\n",
       "External phone transfer bank list and contacts      32274\n",
       "ChatFragment                                        31754\n",
       "Chat screen                                         31709\n",
       "UserProfileActivity                                 30297\n",
       "Notification Center                                 29593\n",
       "AdviceFragment                                      29550\n",
       "ScanNfcFragment                                     29411\n",
       "CardToCardTransferContainerActivity                 28782\n",
       "ReverseCashBackMainActivity                         27660\n",
       "Name: device_screen_name, dtype: int64"
      ]
     },
     "execution_count": 76,
     "metadata": {},
     "output_type": "execute_result"
    }
   ],
   "source": [
    "sample_click_stream['device_screen_name'].value_counts()[:50]"
   ]
  },
  {
   "cell_type": "code",
   "execution_count": 46,
   "metadata": {},
   "outputs": [
    {
     "data": {
      "text/plain": [
       "LTE       5781267\n",
       "HSPA+     1003406\n",
       "EDGE        84428\n",
       "HSPA        72859\n",
       "HSUPA       24784\n",
       "UMTS        18870\n",
       "LTE_CA       7508\n",
       "HSDPA        5063\n",
       "Other        1402\n",
       "GPRS         1182\n",
       "Name: net_connection_tech, dtype: int64"
      ]
     },
     "execution_count": 46,
     "metadata": {},
     "output_type": "execute_result"
    }
   ],
   "source": [
    "sample_click_stream['net_connection_tech'].value_counts()"
   ]
  },
  {
   "cell_type": "code",
   "execution_count": 62,
   "metadata": {},
   "outputs": [
    {
     "ename": "NameError",
     "evalue": "name 'Foreground' is not defined",
     "output_type": "error",
     "traceback": [
      "\u001b[0;31m---------------------------------------------------------------------------\u001b[0m",
      "\u001b[0;31mNameError\u001b[0m                                 Traceback (most recent call last)",
      "\u001b[0;32m<ipython-input-62-f9190ffa61bb>\u001b[0m in \u001b[0;36m<module>\u001b[0;34m\u001b[0m\n\u001b[0;32m----> 1\u001b[0;31m \u001b[0msample_click_stream\u001b[0m\u001b[0;34m[\u001b[0m\u001b[0;34m'event_name'\u001b[0m\u001b[0;34m]\u001b[0m \u001b[0;34m=\u001b[0m \u001b[0msample_click_stream\u001b[0m\u001b[0;34m[\u001b[0m\u001b[0;34m'event_name'\u001b[0m\u001b[0;34m]\u001b[0m\u001b[0;34m.\u001b[0m\u001b[0mfillna\u001b[0m\u001b[0;34m(\u001b[0m\u001b[0mForeground\u001b[0m\u001b[0;34m)\u001b[0m\u001b[0;34m\u001b[0m\u001b[0;34m\u001b[0m\u001b[0m\n\u001b[0m",
      "\u001b[0;31mNameError\u001b[0m: name 'Foreground' is not defined"
     ]
    }
   ],
   "source": [
    "\n"
   ]
  },
  {
   "cell_type": "code",
   "execution_count": null,
   "metadata": {},
   "outputs": [],
   "source": []
  }
 ],
 "metadata": {
  "kernelspec": {
   "display_name": "Python 3",
   "language": "python",
   "name": "python3"
  },
  "language_info": {
   "codemirror_mode": {
    "name": "ipython",
    "version": 3
   },
   "file_extension": ".py",
   "mimetype": "text/x-python",
   "name": "python",
   "nbconvert_exporter": "python",
   "pygments_lexer": "ipython3",
   "version": "3.8.5"
  }
 },
 "nbformat": 4,
 "nbformat_minor": 4
}
