{
 "cells": [
  {
   "cell_type": "code",
   "execution_count": 1,
   "metadata": {},
   "outputs": [],
   "source": [
    "from matplotlib import pyplot as plt\n",
    "import seaborn as sns\n",
    "\n",
    "import pandas as pd\n",
    "import datetime\n",
    "import swifter\n",
    "import numpy as np\n",
    "\n",
    "from tqdm.notebook import tqdm"
   ]
  },
  {
   "cell_type": "code",
   "execution_count": 2,
   "metadata": {},
   "outputs": [],
   "source": [
    "path_to_data = '../data/'"
   ]
  },
  {
   "cell_type": "code",
   "execution_count": 3,
   "metadata": {},
   "outputs": [],
   "source": [
    "test_df = pd.read_csv(path_to_data + 'alfabattle2_prediction_session_timestamp.csv', parse_dates=['timestamp'])"
   ]
  },
  {
   "cell_type": "code",
   "execution_count": 4,
   "metadata": {},
   "outputs": [
    {
     "data": {
      "text/plain": [
       "1    79268\n",
       "dtype: int64"
      ]
     },
     "execution_count": 4,
     "metadata": {},
     "output_type": "execute_result"
    }
   ],
   "source": [
    "test_df.groupby(['client_pin']).size().value_counts()"
   ]
  },
  {
   "cell_type": "code",
   "execution_count": 5,
   "metadata": {},
   "outputs": [],
   "source": [
    "train_df = pd.read_csv(path_to_data + 'alfabattle2_abattle_train_target.csv', parse_dates=['timestamp'])"
   ]
  },
  {
   "cell_type": "code",
   "execution_count": 7,
   "metadata": {},
   "outputs": [
    {
     "data": {
      "text/plain": [
       "<AxesSubplot:>"
      ]
     },
     "execution_count": 7,
     "metadata": {},
     "output_type": "execute_result"
    },
    {
     "data": {
      "image/png": "[encoded data removed]",
      "text/plain": [
       "<Figure size 432x288 with 1 Axes>"
      ]
     },
     "metadata": {
      "needs_background": "light"
     },
     "output_type": "display_data"
    }
   ],
   "source": [
    "train_df.groupby(['client_pin']).size().hist()"
   ]
  },
  {
   "cell_type": "code",
   "execution_count": 8,
   "metadata": {},
   "outputs": [
    {
     "data": {
      "text/plain": [
       "count    79268.000000\n",
       "mean        63.901574\n",
       "std         85.280433\n",
       "min          1.000000\n",
       "25%         14.000000\n",
       "50%         35.000000\n",
       "75%         80.000000\n",
       "max       1646.000000\n",
       "dtype: float64"
      ]
     },
     "execution_count": 8,
     "metadata": {},
     "output_type": "execute_result"
    }
   ],
   "source": [
    "train_df.groupby(['client_pin']).size().describe()"
   ]
  },
  {
   "cell_type": "code",
   "execution_count": 9,
   "metadata": {},
   "outputs": [
    {
     "data": {
      "text/plain": [
       "<AxesSubplot:>"
      ]
     },
     "execution_count": 9,
     "metadata": {},
     "output_type": "execute_result"
    },
    {
     "data": {
      "image/png": "[encoded data removed]",
      "text/plain": [
       "<Figure size 432x288 with 1 Axes>"
      ]
     },
     "metadata": {
      "needs_background": "light"
     },
     "output_type": "display_data"
    }
   ],
   "source": [
    "sns.boxplot(train_df.groupby(['client_pin']).size())"
   ]
  },
  {
   "cell_type": "code",
   "execution_count": 13,
   "metadata": {},
   "outputs": [
    {
     "data": {
      "text/html": [
       "<div>\n",
       "<style scoped>\n",
       "    .dataframe tbody tr th:only-of-type {\n",
       "        vertical-align: middle;\n",
       "    }\n",
       "\n",
       "    .dataframe tbody tr th {\n",
       "        vertical-align: top;\n",
       "    }\n",
       "\n",
       "    .dataframe thead th {\n",
       "        text-align: right;\n",
       "    }\n",
       "</style>\n",
       "<table border=\"1\" class=\"dataframe\">\n",
       "  <thead>\n",
       "    <tr style=\"text-align: right;\">\n",
       "      <th></th>\n",
       "      <th>session_id</th>\n",
       "      <th>client_pin</th>\n",
       "      <th>timestamp</th>\n",
       "      <th>multi_class_target</th>\n",
       "    </tr>\n",
       "  </thead>\n",
       "  <tbody>\n",
       "    <tr>\n",
       "      <th>1811368</th>\n",
       "      <td>64577b7363222ea94fc546347a1b26ef</td>\n",
       "      <td>674595ee5acb8c2ede30dadfa722ba9d</td>\n",
       "      <td>2020-01-01 09:23:59</td>\n",
       "      <td>statement</td>\n",
       "    </tr>\n",
       "    <tr>\n",
       "      <th>2343402</th>\n",
       "      <td>a6f11f43659be2d2cd99a295a1b15c90</td>\n",
       "      <td>674595ee5acb8c2ede30dadfa722ba9d</td>\n",
       "      <td>2020-01-02 06:55:07</td>\n",
       "      <td>mobile_recharge</td>\n",
       "    </tr>\n",
       "    <tr>\n",
       "      <th>4311119</th>\n",
       "      <td>c7b8d7aa6d11cc90e313f9bdaaf9fae0</td>\n",
       "      <td>674595ee5acb8c2ede30dadfa722ba9d</td>\n",
       "      <td>2020-01-02 08:45:27</td>\n",
       "      <td>card_recharge</td>\n",
       "    </tr>\n",
       "    <tr>\n",
       "      <th>4543509</th>\n",
       "      <td>3fca522157c43f9bd8c7aaffbf2e6787</td>\n",
       "      <td>674595ee5acb8c2ede30dadfa722ba9d</td>\n",
       "      <td>2020-01-02 09:12:01</td>\n",
       "      <td>statement</td>\n",
       "    </tr>\n",
       "    <tr>\n",
       "      <th>4684954</th>\n",
       "      <td>3a22ccf09d224309fb43c3d0e85584a7</td>\n",
       "      <td>674595ee5acb8c2ede30dadfa722ba9d</td>\n",
       "      <td>2020-01-02 09:32:51</td>\n",
       "      <td>statement</td>\n",
       "    </tr>\n",
       "    <tr>\n",
       "      <th>...</th>\n",
       "      <td>...</td>\n",
       "      <td>...</td>\n",
       "      <td>...</td>\n",
       "      <td>...</td>\n",
       "    </tr>\n",
       "    <tr>\n",
       "      <th>259124</th>\n",
       "      <td>cd975992021f1f9951255c7775c76ca5</td>\n",
       "      <td>674595ee5acb8c2ede30dadfa722ba9d</td>\n",
       "      <td>2020-07-30 13:26:17</td>\n",
       "      <td>main_screen</td>\n",
       "    </tr>\n",
       "    <tr>\n",
       "      <th>1155293</th>\n",
       "      <td>ff470d57211a67c86126381a77f3b9aa</td>\n",
       "      <td>674595ee5acb8c2ede30dadfa722ba9d</td>\n",
       "      <td>2020-09-25 07:01:48</td>\n",
       "      <td>card_recharge</td>\n",
       "    </tr>\n",
       "    <tr>\n",
       "      <th>1745389</th>\n",
       "      <td>23d524b52f49c107f3b4ecc9123ce9fe</td>\n",
       "      <td>674595ee5acb8c2ede30dadfa722ba9d</td>\n",
       "      <td>2020-09-25 16:12:35</td>\n",
       "      <td>main_screen</td>\n",
       "    </tr>\n",
       "    <tr>\n",
       "      <th>3425470</th>\n",
       "      <td>11f50a971370b86ca8226dbd2698125a</td>\n",
       "      <td>674595ee5acb8c2ede30dadfa722ba9d</td>\n",
       "      <td>2020-09-25 18:04:38</td>\n",
       "      <td>main_screen</td>\n",
       "    </tr>\n",
       "    <tr>\n",
       "      <th>2348336</th>\n",
       "      <td>e50b00171af117fd20216801f5835663</td>\n",
       "      <td>674595ee5acb8c2ede30dadfa722ba9d</td>\n",
       "      <td>2020-09-25 21:02:30</td>\n",
       "      <td>main_screen</td>\n",
       "    </tr>\n",
       "  </tbody>\n",
       "</table>\n",
       "<p>1646 rows × 4 columns</p>\n",
       "</div>"
      ],
      "text/plain": [
       "                               session_id                        client_pin  \\\n",
       "1811368  64577b7363222ea94fc546347a1b26ef  674595ee5acb8c2ede30dadfa722ba9d   \n",
       "2343402  a6f11f43659be2d2cd99a295a1b15c90  674595ee5acb8c2ede30dadfa722ba9d   \n",
       "4311119  c7b8d7aa6d11cc90e313f9bdaaf9fae0  674595ee5acb8c2ede30dadfa722ba9d   \n",
       "4543509  3fca522157c43f9bd8c7aaffbf2e6787  674595ee5acb8c2ede30dadfa722ba9d   \n",
       "4684954  3a22ccf09d224309fb43c3d0e85584a7  674595ee5acb8c2ede30dadfa722ba9d   \n",
       "...                                   ...                               ...   \n",
       "259124   cd975992021f1f9951255c7775c76ca5  674595ee5acb8c2ede30dadfa722ba9d   \n",
       "1155293  ff470d57211a67c86126381a77f3b9aa  674595ee5acb8c2ede30dadfa722ba9d   \n",
       "1745389  23d524b52f49c107f3b4ecc9123ce9fe  674595ee5acb8c2ede30dadfa722ba9d   \n",
       "3425470  11f50a971370b86ca8226dbd2698125a  674595ee5acb8c2ede30dadfa722ba9d   \n",
       "2348336  e50b00171af117fd20216801f5835663  674595ee5acb8c2ede30dadfa722ba9d   \n",
       "\n",
       "                  timestamp multi_class_target  \n",
       "1811368 2020-01-01 09:23:59          statement  \n",
       "2343402 2020-01-02 06:55:07    mobile_recharge  \n",
       "4311119 2020-01-02 08:45:27      card_recharge  \n",
       "4543509 2020-01-02 09:12:01          statement  \n",
       "4684954 2020-01-02 09:32:51          statement  \n",
       "...                     ...                ...  \n",
       "259124  2020-07-30 13:26:17        main_screen  \n",
       "1155293 2020-09-25 07:01:48      card_recharge  \n",
       "1745389 2020-09-25 16:12:35        main_screen  \n",
       "3425470 2020-09-25 18:04:38        main_screen  \n",
       "2348336 2020-09-25 21:02:30        main_screen  \n",
       "\n",
       "[1646 rows x 4 columns]"
      ]
     },
     "execution_count": 13,
     "metadata": {},
     "output_type": "execute_result"
    }
   ],
   "source": [
    "train_df.loc[train_df['client_pin'].map(train_df.groupby(['client_pin']).size() == 1646)].sort_values('timestamp')"
   ]
  },
  {
   "cell_type": "code",
   "execution_count": 14,
   "metadata": {},
   "outputs": [
    {
     "data": {
      "text/plain": [
       "main_screen             33559\n",
       "statement               12508\n",
       "credit_info             10659\n",
       "chat                     4672\n",
       "mobile_recharge          3619\n",
       "own_transfer             3490\n",
       "phone_money_transfer     3484\n",
       "card_recharge            3373\n",
       "card2card_transfer       2909\n",
       "invest                    995\n",
       "Name: multi_class_target, dtype: int64"
      ]
     },
     "execution_count": 14,
     "metadata": {},
     "output_type": "execute_result"
    }
   ],
   "source": [
    "train_df.drop_duplicates(subset='client_pin', keep='last')['multi_class_target'].value_counts()"
   ]
  },
  {
   "cell_type": "code",
   "execution_count": 15,
   "metadata": {},
   "outputs": [
    {
     "data": {
      "text/plain": [
       "main_screen             2280763\n",
       "statement                922569\n",
       "credit_info              498698\n",
       "own_transfer             290077\n",
       "mobile_recharge          266485\n",
       "phone_money_transfer     232911\n",
       "card2card_transfer       193378\n",
       "chat                     184775\n",
       "card_recharge            138616\n",
       "invest                    57078\n",
       "Name: multi_class_target, dtype: int64"
      ]
     },
     "execution_count": 15,
     "metadata": {},
     "output_type": "execute_result"
    }
   ],
   "source": [
    "train_df['multi_class_target'].value_counts()"
   ]
  },
  {
   "cell_type": "code",
   "execution_count": 17,
   "metadata": {},
   "outputs": [
    {
     "data": {
      "text/plain": [
       "<AxesSubplot:>"
      ]
     },
     "execution_count": 17,
     "metadata": {},
     "output_type": "execute_result"
    },
    {
     "data": {
      "image/png": "[encoded data removed]",
      "text/plain": [
       "<Figure size 432x288 with 1 Axes>"
      ]
     },
     "metadata": {
      "needs_background": "light"
     },
     "output_type": "display_data"
    }
   ],
   "source": [
    "train_df.groupby(['client_pin'])['multi_class_target'].nunique().hist()"
   ]
  },
  {
   "cell_type": "code",
   "execution_count": 18,
   "metadata": {},
   "outputs": [
    {
     "data": {
      "text/html": [
       "<div>\n",
       "<style scoped>\n",
       "    .dataframe tbody tr th:only-of-type {\n",
       "        vertical-align: middle;\n",
       "    }\n",
       "\n",
       "    .dataframe tbody tr th {\n",
       "        vertical-align: top;\n",
       "    }\n",
       "\n",
       "    .dataframe thead th {\n",
       "        text-align: right;\n",
       "    }\n",
       "</style>\n",
       "<table border=\"1\" class=\"dataframe\">\n",
       "  <thead>\n",
       "    <tr style=\"text-align: right;\">\n",
       "      <th></th>\n",
       "      <th>session_id</th>\n",
       "      <th>client_pin</th>\n",
       "      <th>timestamp</th>\n",
       "      <th>multi_class_target</th>\n",
       "    </tr>\n",
       "  </thead>\n",
       "  <tbody>\n",
       "    <tr>\n",
       "      <th>0</th>\n",
       "      <td>0000029e72e5fcde6a9f29c3a3ed198f</td>\n",
       "      <td>7cf9221322a0e2fdefb1b998b8f2ab29</td>\n",
       "      <td>2020-06-15 14:01:12</td>\n",
       "      <td>main_screen</td>\n",
       "    </tr>\n",
       "  </tbody>\n",
       "</table>\n",
       "</div>"
      ],
      "text/plain": [
       "                         session_id                        client_pin  \\\n",
       "0  0000029e72e5fcde6a9f29c3a3ed198f  7cf9221322a0e2fdefb1b998b8f2ab29   \n",
       "\n",
       "            timestamp multi_class_target  \n",
       "0 2020-06-15 14:01:12        main_screen  "
      ]
     },
     "execution_count": 18,
     "metadata": {},
     "output_type": "execute_result"
    }
   ],
   "source": [
    "train_df.head(1)"
   ]
  },
  {
   "cell_type": "code",
   "execution_count": 19,
   "metadata": {},
   "outputs": [],
   "source": [
    "train_df['hour'] = train_df['timestamp'].apply(lambda x: x.hour)"
   ]
  },
  {
   "cell_type": "code",
   "execution_count": 25,
   "metadata": {},
   "outputs": [
    {
     "data": {
      "text/html": [
       "<div>\n",
       "<style scoped>\n",
       "    .dataframe tbody tr th:only-of-type {\n",
       "        vertical-align: middle;\n",
       "    }\n",
       "\n",
       "    .dataframe tbody tr th {\n",
       "        vertical-align: top;\n",
       "    }\n",
       "\n",
       "    .dataframe thead th {\n",
       "        text-align: right;\n",
       "    }\n",
       "</style>\n",
       "<table border=\"1\" class=\"dataframe\">\n",
       "  <thead>\n",
       "    <tr style=\"text-align: right;\">\n",
       "      <th></th>\n",
       "      <th>median</th>\n",
       "      <th>mean</th>\n",
       "      <th>mode</th>\n",
       "      <th>count</th>\n",
       "    </tr>\n",
       "    <tr>\n",
       "      <th>multi_class_target</th>\n",
       "      <th></th>\n",
       "      <th></th>\n",
       "      <th></th>\n",
       "      <th></th>\n",
       "    </tr>\n",
       "  </thead>\n",
       "  <tbody>\n",
       "    <tr>\n",
       "      <th>main_screen</th>\n",
       "      <td>13</td>\n",
       "      <td>13.197554</td>\n",
       "      <td>12</td>\n",
       "      <td>2280763</td>\n",
       "    </tr>\n",
       "    <tr>\n",
       "      <th>statement</th>\n",
       "      <td>14</td>\n",
       "      <td>13.598971</td>\n",
       "      <td>14</td>\n",
       "      <td>922569</td>\n",
       "    </tr>\n",
       "    <tr>\n",
       "      <th>credit_info</th>\n",
       "      <td>13</td>\n",
       "      <td>13.037818</td>\n",
       "      <td>10</td>\n",
       "      <td>498698</td>\n",
       "    </tr>\n",
       "    <tr>\n",
       "      <th>own_transfer</th>\n",
       "      <td>14</td>\n",
       "      <td>13.575092</td>\n",
       "      <td>13</td>\n",
       "      <td>290077</td>\n",
       "    </tr>\n",
       "    <tr>\n",
       "      <th>mobile_recharge</th>\n",
       "      <td>12</td>\n",
       "      <td>12.344826</td>\n",
       "      <td>9</td>\n",
       "      <td>266485</td>\n",
       "    </tr>\n",
       "    <tr>\n",
       "      <th>phone_money_transfer</th>\n",
       "      <td>14</td>\n",
       "      <td>13.510839</td>\n",
       "      <td>12</td>\n",
       "      <td>232911</td>\n",
       "    </tr>\n",
       "    <tr>\n",
       "      <th>card2card_transfer</th>\n",
       "      <td>14</td>\n",
       "      <td>13.703793</td>\n",
       "      <td>12</td>\n",
       "      <td>193378</td>\n",
       "    </tr>\n",
       "    <tr>\n",
       "      <th>chat</th>\n",
       "      <td>14</td>\n",
       "      <td>13.464700</td>\n",
       "      <td>13</td>\n",
       "      <td>184775</td>\n",
       "    </tr>\n",
       "    <tr>\n",
       "      <th>card_recharge</th>\n",
       "      <td>14</td>\n",
       "      <td>13.410515</td>\n",
       "      <td>14</td>\n",
       "      <td>138616</td>\n",
       "    </tr>\n",
       "    <tr>\n",
       "      <th>invest</th>\n",
       "      <td>14</td>\n",
       "      <td>13.392130</td>\n",
       "      <td>11</td>\n",
       "      <td>57078</td>\n",
       "    </tr>\n",
       "  </tbody>\n",
       "</table>\n",
       "</div>"
      ],
      "text/plain": [
       "                      median       mean  mode    count\n",
       "multi_class_target                                    \n",
       "main_screen               13  13.197554    12  2280763\n",
       "statement                 14  13.598971    14   922569\n",
       "credit_info               13  13.037818    10   498698\n",
       "own_transfer              14  13.575092    13   290077\n",
       "mobile_recharge           12  12.344826     9   266485\n",
       "phone_money_transfer      14  13.510839    12   232911\n",
       "card2card_transfer        14  13.703793    12   193378\n",
       "chat                      14  13.464700    13   184775\n",
       "card_recharge             14  13.410515    14   138616\n",
       "invest                    14  13.392130    11    57078"
      ]
     },
     "execution_count": 25,
     "metadata": {},
     "output_type": "execute_result"
    }
   ],
   "source": [
    "train_df.groupby(['multi_class_target'])['hour'].agg(['median', 'mean', pd.Series.mode, 'count']).sort_values('count', ascending=False)"
   ]
  },
  {
   "cell_type": "code",
   "execution_count": 27,
   "metadata": {},
   "outputs": [
    {
     "data": {
      "text/plain": [
       "client_pin\n",
       "000033b6509acd1c8eb0d06ebd2e1de9    False\n",
       "0003653d4fa5e963ef379d65dd1d26ef    False\n",
       "0003a7947510434f8248b5b6a1eba0fa    False\n",
       "0005e7be2d89541ceea6b2f0bb4bc790    False\n",
       "00067f6a7575df6f067b3677b6ebfadc    False\n",
       "                                    ...  \n",
       "fffe62aa2ba7ac131c25ef6bde9fdb2f    False\n",
       "fffeb4fad3aa3603f65d7c847efbe93d    False\n",
       "ffffa1546e530f390a721a535477fb26    False\n",
       "ffffdc3b688b6b4dbb1f468f12d4c9c5    False\n",
       "ffffe1150b0d2ca8005786cd35729226    False\n",
       "Name: multi_class_target, Length: 79268, dtype: bool"
      ]
     },
     "execution_count": 27,
     "metadata": {},
     "output_type": "execute_result"
    }
   ],
   "source": [
    "train_df.groupby(['client_pin'])['multi_class_target'].size() == 1"
   ]
  },
  {
   "cell_type": "code",
   "execution_count": 30,
   "metadata": {},
   "outputs": [],
   "source": [
    "tmp_df = train_df[train_df['client_pin'].map(train_df.groupby(['client_pin'])['multi_class_target'].size() == 1)]"
   ]
  },
  {
   "cell_type": "code",
   "execution_count": 34,
   "metadata": {},
   "outputs": [
    {
     "data": {
      "text/plain": [
       "<AxesSubplot:>"
      ]
     },
     "execution_count": 34,
     "metadata": {},
     "output_type": "execute_result"
    },
    {
     "data": {
      "image/png": "[encoded data removed]",
      "text/plain": [
       "<Figure size 432x288 with 1 Axes>"
      ]
     },
     "metadata": {
      "needs_background": "light"
     },
     "output_type": "display_data"
    }
   ],
   "source": [
    "tmp_df.groupby(tmp_df['timestamp'].dt.date).size().reset_index().sort_index().plot()"
   ]
  },
  {
   "cell_type": "code",
   "execution_count": 35,
   "metadata": {},
   "outputs": [],
   "source": [
    "columns_to_read = ['timestamp', 'client', 'session_id']"
   ]
  },
  {
   "cell_type": "code",
   "execution_count": 36,
   "metadata": {},
   "outputs": [],
   "source": [
    "sample_click_stream = pd.read_parquet(path_to_data + 'alfabattle2_abattle_clickstream/part-00000.parquet', columns=columns_to_read)"
   ]
  },
  {
   "cell_type": "code",
   "execution_count": 41,
   "metadata": {},
   "outputs": [],
   "source": [
    "clients_from_clickstream = test_df[test_df['client_pin'].isin(sample_click_stream['client'].unique())]['client_pin'].unique()"
   ]
  },
  {
   "cell_type": "code",
   "execution_count": 44,
   "metadata": {},
   "outputs": [],
   "source": [
    "mask = train_df[train_df['client_pin'].isin(clients_from_clickstream)].groupby(['client_pin'])['multi_class_target'].size() == 1"
   ]
  },
  {
   "cell_type": "code",
   "execution_count": 46,
   "metadata": {},
   "outputs": [],
   "source": [
    "clients_with_one_train_label = train_df[train_df['client_pin'].map(mask).fillna(False)]['client_pin'].unique()"
   ]
  },
  {
   "cell_type": "code",
   "execution_count": 48,
   "metadata": {},
   "outputs": [
    {
     "data": {
      "text/plain": [
       "count     161.000000\n",
       "mean      139.527950\n",
       "std       244.186662\n",
       "min         4.000000\n",
       "25%        47.000000\n",
       "50%        80.000000\n",
       "75%       144.000000\n",
       "max      2594.000000\n",
       "Name: session_id, dtype: float64"
      ]
     },
     "execution_count": 48,
     "metadata": {},
     "output_type": "execute_result"
    }
   ],
   "source": [
    "sample_click_stream[sample_click_stream['client'].isin(clients_with_one_train_label)].groupby(['client'])['session_id'].size().describe()"
   ]
  },
  {
   "cell_type": "code",
   "execution_count": 50,
   "metadata": {},
   "outputs": [
    {
     "data": {
      "text/plain": [
       "<AxesSubplot:xlabel='session_id'>"
      ]
     },
     "execution_count": 50,
     "metadata": {},
     "output_type": "execute_result"
    },
    {
     "data": {
      "image/png": "[encoded data removed]",
      "text/plain": [
       "<Figure size 432x288 with 1 Axes>"
      ]
     },
     "metadata": {
      "needs_background": "light"
     },
     "output_type": "display_data"
    }
   ],
   "source": [
    "sns.boxplot(sample_click_stream.groupby(['client'])['session_id'].size())"
   ]
  },
  {
   "cell_type": "code",
   "execution_count": 51,
   "metadata": {},
   "outputs": [
    {
     "data": {
      "text/plain": [
       "count     8211.000000\n",
       "mean      1518.523322\n",
       "std       1876.622313\n",
       "min          1.000000\n",
       "25%        434.500000\n",
       "50%        935.000000\n",
       "75%       1894.500000\n",
       "max      28570.000000\n",
       "Name: session_id, dtype: float64"
      ]
     },
     "execution_count": 51,
     "metadata": {},
     "output_type": "execute_result"
    }
   ],
   "source": [
    "sample_click_stream.groupby(['client'])['session_id'].size().describe()"
   ]
  },
  {
   "cell_type": "code",
   "execution_count": null,
   "metadata": {},
   "outputs": [],
   "source": []
  }
 ],
 "metadata": {
  "kernelspec": {
   "display_name": "Python 3",
   "language": "python",
   "name": "python3"
  },
  "language_info": {
   "codemirror_mode": {
    "name": "ipython",
    "version": 3
   },
   "file_extension": ".py",
   "mimetype": "text/x-python",
   "name": "python",
   "nbconvert_exporter": "python",
   "pygments_lexer": "ipython3",
   "version": "3.8.5"
  }
 },
 "nbformat": 4,
 "nbformat_minor": 4
}
