{
 "cells": [
  {
   "cell_type": "code",
   "execution_count": 1,
   "metadata": {},
   "outputs": [],
   "source": [
    "from matplotlib import pyplot as plt\n",
    "import seaborn as sns\n",
    "\n",
    "import pandas as pd\n",
    "import datetime\n",
    "import swifter\n",
    "import numpy as np\n",
    "\n",
    "from tqdm.notebook import tqdm"
   ]
  },
  {
   "cell_type": "code",
   "execution_count": 2,
   "metadata": {},
   "outputs": [],
   "source": [
    "path_to_data = '../data/'"
   ]
  },
  {
   "cell_type": "code",
   "execution_count": 3,
   "metadata": {},
   "outputs": [],
   "source": [
    "columns_to_read = ['timestamp', 'application_id', 'client', 'session_id', 'event_type', 'event_category', \n",
    "                   'event_name', 'event_label', 'page_urlhost', 'net_connection_type', 'net_connection_tech', \n",
    "                   'device_screen_name', 'device_is_webview']"
   ]
  },
  {
   "cell_type": "code",
   "execution_count": 4,
   "metadata": {},
   "outputs": [],
   "source": [
    "filename = 'part-00000'"
   ]
  },
  {
   "cell_type": "code",
   "execution_count": 5,
   "metadata": {},
   "outputs": [],
   "source": [
    "sample_click_stream = pd.read_parquet(path_to_data + 'alfabattle2_abattle_clickstream/' + filename + '.parquet', columns=columns_to_read)"
   ]
  },
  {
   "cell_type": "code",
   "execution_count": 6,
   "metadata": {},
   "outputs": [
    {
     "name": "stdout",
     "output_type": "stream",
     "text": [
      "<class 'pandas.core.frame.DataFrame'>\n",
      "RangeIndex: 12468595 entries, 0 to 12468594\n",
      "Data columns (total 13 columns):\n",
      " #   Column               Non-Null Count     Dtype         \n",
      "---  ------               --------------     -----         \n",
      " 0   timestamp            12468595 non-null  datetime64[ns]\n",
      " 1   application_id       12468595 non-null  object        \n",
      " 2   client               12468595 non-null  object        \n",
      " 3   session_id           12468595 non-null  object        \n",
      " 4   event_type           12468595 non-null  object        \n",
      " 5   event_category       6766054 non-null   object        \n",
      " 6   event_name           6682190 non-null   object        \n",
      " 7   event_label          1751796 non-null   object        \n",
      " 8   page_urlhost         437725 non-null    object        \n",
      " 9   net_connection_type  12030870 non-null  object        \n",
      " 10  net_connection_tech  7000769 non-null   object        \n",
      " 11  device_screen_name   9665011 non-null   object        \n",
      " 12  device_is_webview    12243467 non-null  object        \n",
      "dtypes: datetime64[ns](1), object(12)\n",
      "memory usage: 1.2+ GB\n"
     ]
    }
   ],
   "source": [
    "sample_click_stream.info(null_counts=True)"
   ]
  },
  {
   "cell_type": "code",
   "execution_count": 7,
   "metadata": {},
   "outputs": [],
   "source": [
    "sample_click_stream = sample_click_stream.sort_values(['client', 'session_id', 'timestamp'])"
   ]
  },
  {
   "cell_type": "markdown",
   "metadata": {},
   "source": [
    "### Last application_id"
   ]
  },
  {
   "cell_type": "code",
   "execution_count": 8,
   "metadata": {},
   "outputs": [],
   "source": [
    "last_app_id_df = sample_click_stream.groupby(['client', 'session_id'])['application_id'].last().reset_index()"
   ]
  },
  {
   "cell_type": "code",
   "execution_count": 9,
   "metadata": {},
   "outputs": [
    {
     "data": {
      "text/html": [
       "<div>\n",
       "<style scoped>\n",
       "    .dataframe tbody tr th:only-of-type {\n",
       "        vertical-align: middle;\n",
       "    }\n",
       "\n",
       "    .dataframe tbody tr th {\n",
       "        vertical-align: top;\n",
       "    }\n",
       "\n",
       "    .dataframe thead th {\n",
       "        text-align: right;\n",
       "    }\n",
       "</style>\n",
       "<table border=\"1\" class=\"dataframe\">\n",
       "  <thead>\n",
       "    <tr style=\"text-align: right;\">\n",
       "      <th></th>\n",
       "      <th>client</th>\n",
       "      <th>session_id</th>\n",
       "      <th>application_id</th>\n",
       "    </tr>\n",
       "  </thead>\n",
       "  <tbody>\n",
       "    <tr>\n",
       "      <th>0</th>\n",
       "      <td>0014a49ec89e3a43098375b107f8ff2e</td>\n",
       "      <td>13c9eab5215d015776acb80675f9d70d</td>\n",
       "      <td>mobile</td>\n",
       "    </tr>\n",
       "  </tbody>\n",
       "</table>\n",
       "</div>"
      ],
      "text/plain": [
       "                             client                        session_id  \\\n",
       "0  0014a49ec89e3a43098375b107f8ff2e  13c9eab5215d015776acb80675f9d70d   \n",
       "\n",
       "  application_id  \n",
       "0         mobile  "
      ]
     },
     "execution_count": 9,
     "metadata": {},
     "output_type": "execute_result"
    }
   ],
   "source": [
    "last_app_id_df.head(1)"
   ]
  },
  {
   "cell_type": "code",
   "execution_count": 10,
   "metadata": {},
   "outputs": [],
   "source": [
    "last_app_id_df = last_app_id_df.rename(columns={'application_id': 'last_application_id'})"
   ]
  },
  {
   "cell_type": "markdown",
   "metadata": {},
   "source": [
    "### n_unique_app_id"
   ]
  },
  {
   "cell_type": "code",
   "execution_count": 11,
   "metadata": {},
   "outputs": [],
   "source": [
    "nunique_app_id_df = sample_click_stream.groupby(['client', 'session_id'])['application_id'].nunique().reset_index()"
   ]
  },
  {
   "cell_type": "code",
   "execution_count": 12,
   "metadata": {},
   "outputs": [],
   "source": [
    "nunique_app_id_df = nunique_app_id_df.rename(columns={'application_id': 'nunique_application_id'})"
   ]
  },
  {
   "cell_type": "code",
   "execution_count": 13,
   "metadata": {},
   "outputs": [],
   "source": [
    "result_df = last_app_id_df.merge(nunique_app_id_df, how='inner', left_on=['client', 'session_id'], right_on=['client', 'session_id'])"
   ]
  },
  {
   "cell_type": "markdown",
   "metadata": {},
   "source": [
    "### Session duration"
   ]
  },
  {
   "cell_type": "code",
   "execution_count": 14,
   "metadata": {},
   "outputs": [
    {
     "data": {
      "application/vnd.jupyter.widget-view+json": {
       "model_id": "10debea877f24af8896ada6fc2e04d2a",
       "version_major": 2,
       "version_minor": 0
      },
      "text/plain": [
       "HBox(children=(HTML(value='Dask Apply'), FloatProgress(value=0.0, max=32.0), HTML(value='')))"
      ]
     },
     "metadata": {},
     "output_type": "display_data"
    },
    {
     "name": "stdout",
     "output_type": "stream",
     "text": [
      "\n"
     ]
    }
   ],
   "source": [
    "duration_df = sample_click_stream.groupby(['client', 'session_id'])['timestamp'].agg(['min', 'max']).diff(axis=1).reset_index()\n",
    "duration_df['duration'] = duration_df['max'].swifter.apply(lambda x: x.total_seconds())\n",
    "duration_df = duration_df.drop(['min', 'max'], axis=1)"
   ]
  },
  {
   "cell_type": "code",
   "execution_count": 15,
   "metadata": {},
   "outputs": [],
   "source": [
    "result_df = result_df.merge(duration_df, how='inner', left_on=['client', 'session_id'], right_on=['client', 'session_id'])"
   ]
  },
  {
   "cell_type": "markdown",
   "metadata": {},
   "source": [
    "### Steps"
   ]
  },
  {
   "cell_type": "code",
   "execution_count": 16,
   "metadata": {},
   "outputs": [],
   "source": [
    "steps_df = sample_click_stream.groupby(['client', 'session_id']).size().reset_index()"
   ]
  },
  {
   "cell_type": "code",
   "execution_count": 17,
   "metadata": {},
   "outputs": [],
   "source": [
    "steps_df = steps_df.rename(columns={0: 'steps'})"
   ]
  },
  {
   "cell_type": "code",
   "execution_count": 18,
   "metadata": {},
   "outputs": [],
   "source": [
    "result_df = result_df.merge(steps_df, how='inner', left_on=['client', 'session_id'], right_on=['client', 'session_id'])"
   ]
  },
  {
   "cell_type": "markdown",
   "metadata": {},
   "source": [
    "### Last event category"
   ]
  },
  {
   "cell_type": "code",
   "execution_count": 19,
   "metadata": {},
   "outputs": [],
   "source": [
    "last_event_cat_df = sample_click_stream.groupby(['client', 'session_id'])['event_category'].last().reset_index()\n",
    "last_event_cat_df = last_event_cat_df.rename(columns={'event_category': 'last_event_category'})"
   ]
  },
  {
   "cell_type": "code",
   "execution_count": 20,
   "metadata": {},
   "outputs": [],
   "source": [
    "result_df = result_df.merge(last_event_cat_df, how='inner', left_on=['client', 'session_id'], right_on=['client', 'session_id'])"
   ]
  },
  {
   "cell_type": "markdown",
   "metadata": {},
   "source": [
    "### nunique_event_category"
   ]
  },
  {
   "cell_type": "code",
   "execution_count": 21,
   "metadata": {},
   "outputs": [],
   "source": [
    "nunique_event_cat_df = sample_click_stream.groupby(['client', 'session_id'])['event_category'].nunique().reset_index()\n",
    "nunique_event_cat_df = nunique_event_cat_df.rename(columns={'event_category': 'nunique_event_category'})"
   ]
  },
  {
   "cell_type": "code",
   "execution_count": 22,
   "metadata": {},
   "outputs": [],
   "source": [
    "result_df = result_df.merge(nunique_event_cat_df, how='inner', left_on=['client', 'session_id'], right_on=['client', 'session_id'])"
   ]
  },
  {
   "cell_type": "markdown",
   "metadata": {},
   "source": [
    "### nunique_event_label"
   ]
  },
  {
   "cell_type": "code",
   "execution_count": 23,
   "metadata": {},
   "outputs": [],
   "source": [
    "nunique_event_label_df = sample_click_stream.groupby(['client', 'session_id'])['event_label'].nunique().reset_index()\n",
    "nunique_event_label_df = nunique_event_label_df.rename(columns={'event_label': 'nunique_event_label'})\n",
    "result_df = result_df.merge(nunique_event_label_df, how='inner', left_on=['client', 'session_id'], right_on=['client', 'session_id'])"
   ]
  },
  {
   "cell_type": "markdown",
   "metadata": {},
   "source": [
    "### Max timestamp"
   ]
  },
  {
   "cell_type": "code",
   "execution_count": 24,
   "metadata": {},
   "outputs": [],
   "source": [
    "max_timestamp_df = sample_click_stream.groupby(['client', 'session_id'])['timestamp'].max().reset_index()\n",
    "max_timestamp_df = max_timestamp_df.rename(columns={'timestamp': 'max_timestamp'})\n",
    "result_df = result_df.merge(max_timestamp_df, how='inner', left_on=['client', 'session_id'], right_on=['client', 'session_id'])"
   ]
  },
  {
   "cell_type": "code",
   "execution_count": 25,
   "metadata": {
    "scrolled": true
   },
   "outputs": [
    {
     "name": "stdout",
     "output_type": "stream",
     "text": [
      "<class 'pandas.core.frame.DataFrame'>\n",
      "Int64Index: 1004032 entries, 0 to 1004031\n",
      "Data columns (total 10 columns):\n",
      " #   Column                  Non-Null Count    Dtype         \n",
      "---  ------                  --------------    -----         \n",
      " 0   client                  1004032 non-null  object        \n",
      " 1   session_id              1004032 non-null  object        \n",
      " 2   last_application_id     1004032 non-null  object        \n",
      " 3   nunique_application_id  1004032 non-null  int64         \n",
      " 4   duration                1004032 non-null  float64       \n",
      " 5   steps                   1004032 non-null  int64         \n",
      " 6   last_event_category     928044 non-null   object        \n",
      " 7   nunique_event_category  1004032 non-null  int64         \n",
      " 8   nunique_event_label     1004032 non-null  int64         \n",
      " 9   max_timestamp           1004032 non-null  datetime64[ns]\n",
      "dtypes: datetime64[ns](1), float64(1), int64(4), object(4)\n",
      "memory usage: 84.3+ MB\n"
     ]
    }
   ],
   "source": [
    "result_df.info()"
   ]
  },
  {
   "cell_type": "code",
   "execution_count": 26,
   "metadata": {},
   "outputs": [],
   "source": [
    "result_df['last_event_category'] = result_df['last_event_category'].fillna('missed')"
   ]
  },
  {
   "cell_type": "markdown",
   "metadata": {},
   "source": [
    "### add labels"
   ]
  },
  {
   "cell_type": "code",
   "execution_count": 27,
   "metadata": {},
   "outputs": [],
   "source": [
    "train_df = pd.read_csv(path_to_data + 'alfabattle2_abattle_train_target.csv', parse_dates=['timestamp'])"
   ]
  },
  {
   "cell_type": "code",
   "execution_count": 28,
   "metadata": {},
   "outputs": [
    {
     "data": {
      "text/html": [
       "<div>\n",
       "<style scoped>\n",
       "    .dataframe tbody tr th:only-of-type {\n",
       "        vertical-align: middle;\n",
       "    }\n",
       "\n",
       "    .dataframe tbody tr th {\n",
       "        vertical-align: top;\n",
       "    }\n",
       "\n",
       "    .dataframe thead th {\n",
       "        text-align: right;\n",
       "    }\n",
       "</style>\n",
       "<table border=\"1\" class=\"dataframe\">\n",
       "  <thead>\n",
       "    <tr style=\"text-align: right;\">\n",
       "      <th></th>\n",
       "      <th>session_id</th>\n",
       "      <th>client_pin</th>\n",
       "      <th>timestamp</th>\n",
       "      <th>multi_class_target</th>\n",
       "    </tr>\n",
       "  </thead>\n",
       "  <tbody>\n",
       "    <tr>\n",
       "      <th>0</th>\n",
       "      <td>0000029e72e5fcde6a9f29c3a3ed198f</td>\n",
       "      <td>7cf9221322a0e2fdefb1b998b8f2ab29</td>\n",
       "      <td>2020-06-15 14:01:12</td>\n",
       "      <td>main_screen</td>\n",
       "    </tr>\n",
       "  </tbody>\n",
       "</table>\n",
       "</div>"
      ],
      "text/plain": [
       "                         session_id                        client_pin  \\\n",
       "0  0000029e72e5fcde6a9f29c3a3ed198f  7cf9221322a0e2fdefb1b998b8f2ab29   \n",
       "\n",
       "            timestamp multi_class_target  \n",
       "0 2020-06-15 14:01:12        main_screen  "
      ]
     },
     "execution_count": 28,
     "metadata": {},
     "output_type": "execute_result"
    }
   ],
   "source": [
    "train_df.head(1)"
   ]
  },
  {
   "cell_type": "code",
   "execution_count": 29,
   "metadata": {},
   "outputs": [],
   "source": [
    "result_df = result_df.merge(train_df.drop(['timestamp'], axis=1), how='left', left_on=['client', 'session_id'], right_on=['client_pin', 'session_id'])"
   ]
  },
  {
   "cell_type": "code",
   "execution_count": 30,
   "metadata": {},
   "outputs": [
    {
     "name": "stdout",
     "output_type": "stream",
     "text": [
      "<class 'pandas.core.frame.DataFrame'>\n",
      "Int64Index: 1004032 entries, 0 to 1004031\n",
      "Data columns (total 12 columns):\n",
      " #   Column                  Non-Null Count    Dtype         \n",
      "---  ------                  --------------    -----         \n",
      " 0   client                  1004032 non-null  object        \n",
      " 1   session_id              1004032 non-null  object        \n",
      " 2   last_application_id     1004032 non-null  object        \n",
      " 3   nunique_application_id  1004032 non-null  int64         \n",
      " 4   duration                1004032 non-null  float64       \n",
      " 5   steps                   1004032 non-null  int64         \n",
      " 6   last_event_category     1004032 non-null  object        \n",
      " 7   nunique_event_category  1004032 non-null  int64         \n",
      " 8   nunique_event_label     1004032 non-null  int64         \n",
      " 9   max_timestamp           1004032 non-null  datetime64[ns]\n",
      " 10  client_pin              526700 non-null   object        \n",
      " 11  multi_class_target      526700 non-null   object        \n",
      "dtypes: datetime64[ns](1), float64(1), int64(4), object(6)\n",
      "memory usage: 99.6+ MB\n"
     ]
    }
   ],
   "source": [
    "result_df.info()"
   ]
  },
  {
   "cell_type": "code",
   "execution_count": 31,
   "metadata": {},
   "outputs": [],
   "source": [
    "result_df = result_df.drop(['client_pin'], axis=1)"
   ]
  },
  {
   "cell_type": "code",
   "execution_count": 32,
   "metadata": {},
   "outputs": [],
   "source": [
    "result_df.to_csv(path_to_data + 'sessions_features/' + filename + '.csv', index=False)"
   ]
  },
  {
   "cell_type": "code",
   "execution_count": null,
   "metadata": {},
   "outputs": [],
   "source": []
  }
 ],
 "metadata": {
  "kernelspec": {
   "display_name": "Python 3",
   "language": "python",
   "name": "python3"
  },
  "language_info": {
   "codemirror_mode": {
    "name": "ipython",
    "version": 3
   },
   "file_extension": ".py",
   "mimetype": "text/x-python",
   "name": "python",
   "nbconvert_exporter": "python",
   "pygments_lexer": "ipython3",
   "version": "3.8.5"
  }
 },
 "nbformat": 4,
 "nbformat_minor": 4
}
